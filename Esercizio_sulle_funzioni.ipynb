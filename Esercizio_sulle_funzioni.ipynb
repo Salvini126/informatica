{
  "nbformat": 4,
  "nbformat_minor": 0,
  "metadata": {
    "colab": {
      "name": "Esercizio sulle funzioni.ipynb",
      "provenance": [],
      "authorship_tag": "ABX9TyN9H1E6pzUyREuOtqVpQIyh",
      "include_colab_link": true
    },
    "kernelspec": {
      "name": "python3",
      "display_name": "Python 3"
    },
    "language_info": {
      "name": "python"
    }
  },
  "cells": [
    {
      "cell_type": "markdown",
      "metadata": {
        "id": "view-in-github",
        "colab_type": "text"
      },
      "source": [
        "<a href=\"https://colab.research.google.com/github/Salvini126/informatica/blob/main/Esercizio_sulle_funzioni.ipynb\" target=\"_parent\"><img src=\"https://colab.research.google.com/assets/colab-badge.svg\" alt=\"Open In Colab\"/></a>"
      ]
    },
    {
      "cell_type": "markdown",
      "metadata": {
        "id": "9ua-t9z79n6P"
      },
      "source": [
        "1. scrivere una funzione chiamata max che dati due numeri restituisca il più grande. Scrivere poi un programma che, utilizzando la funzione creata, trovi il massimo tra tre numeri inseriti dall'utente. \n"
      ]
    },
    {
      "cell_type": "code",
      "metadata": {
        "id": "DiS_9-9_9q8l",
        "colab": {
          "base_uri": "https://localhost:8080/"
        },
        "outputId": "2c1423c0-c4a2-4f61-e38e-79b0bfa152f7"
      },
      "source": [
        "def max(x, y):\n",
        "  if x > y:\n",
        "    return x\n",
        "  else:\n",
        "    return y\n",
        "n1 = int(input(\"Inserisci il primo numero: \"))\n",
        "n2 = int(input(\"Inserisci il secondo numero: \"))\n",
        "n3 = int(input(\"Inserisci il terzo numero: \"))\n",
        "print(max(n1, max(n2,n3)))"
      ],
      "execution_count": null,
      "outputs": [
        {
          "output_type": "stream",
          "name": "stdout",
          "text": [
            "Inserisci il primo numero: 1\n",
            "Inserisci il secondo numero: 3\n",
            "Inserisci il terzo numero: 7\n",
            "7\n"
          ]
        }
      ]
    },
    {
      "cell_type": "markdown",
      "metadata": {
        "id": "5ylVF_i_9urV"
      },
      "source": [
        "2. scrivere una funzione chiamata sommaLista che data una lista di interi restituisca la somma di tutti gli elementi della lista. Scrivere poi un programma che, utilizzando la funzione create, trovi la somma degli elementi di una lista inserita dall'utente. "
      ]
    },
    {
      "cell_type": "code",
      "metadata": {
        "id": "EbJITRK69u9t"
      },
      "source": [
        "def sommaLista(lst1):\n",
        "  sum = 0\n",
        "  for i in range(0, len(lst1)):\n",
        "    sum = sum + lst1[i]\n",
        "  return sum\n",
        "lst1 = [int(n) for n in input(\"Inserisci i valori nella list: \").split()]\n",
        "print(sommaLista(lst1))"
      ],
      "execution_count": null,
      "outputs": []
    },
    {
      "cell_type": "markdown",
      "metadata": {
        "id": "GXamZEEh9vZF"
      },
      "source": [
        "3. utilizzando le funzioni create precedentemente, scrivere un programma che permetta all'utente di inserire tre liste e di avere il valore massimo della somma degli elementi delle tre liste.\n"
      ]
    },
    {
      "cell_type": "code",
      "metadata": {
        "id": "h3Lba0lZ9vr9"
      },
      "source": [
        "num1 = sommaLista(list(map(int, input(\"Inserisci i valori nella prima lista: \").split())))\n",
        "num2 = sommaLista(list(map(int, input(\"Inserisci i valori nella seconda lista: \").split())))\n",
        "num3 = sommaLista(list(map(int, input(\"Inserisci i valori nella terza lista: \").split())))\n",
        "va = max(num1, max(num2, num3))\n",
        "print(va)"
      ],
      "execution_count": null,
      "outputs": []
    },
    {
      "cell_type": "markdown",
      "metadata": {
        "id": "-5vbeR9e4jFP"
      },
      "source": [
        "4. scrivere una funzione chiamata controlla che dato un numero e due estremi restituisca True se il numero è compreso tra i due estremi, false altrimenti. Utilizzare poi la funzione per trovare il numero di elementi di una lista di numeri interi (inserita dall'utente) compresi tra due estremi (inseriti anch'essi dall'utente)\n"
      ]
    },
    {
      "cell_type": "code",
      "metadata": {
        "id": "-sqtIp2U9wSV"
      },
      "source": [
        "def controlla(n, e1, e2):\n",
        "  if n > e1 and n < e2:\n",
        "    return True\n",
        "  else:\n",
        "    return False\n",
        "    \n",
        "n = int(input(\"Inserisci un valore: \"))\n",
        "min = int(input(\"Inserisci l'estremo minore: \"))\n",
        "mag = int(input(\"Inserisci l'estremo maggiore: \"))\n",
        "print(controlla(n, min, mag))"
      ],
      "execution_count": null,
      "outputs": []
    },
    {
      "cell_type": "markdown",
      "metadata": {
        "id": "U4EESPRD578O"
      },
      "source": [
        "5. utilizzare la funzione controlla creata precedentemente per scrivere un programma che, data una lista di numeri interi inserita  dall'utente, carichi in un'altra lista i numeri compresi tra due estremi inseriti anch'essi dall'utente.\n"
      ]
    },
    {
      "cell_type": "code",
      "metadata": {
        "id": "-_mZCjut58Qk"
      },
      "source": [
        "lst1 = [int(n) for n in input(\"Inserisci i valori nella lista: \").split()]\n",
        "lst2 = []\n",
        "e1 = int(input(\"Inserisci l'estremo minore: \"))\n",
        "e2 = int(input(\"Inserisci l'estremo maggiore: \"))\n",
        "for i in range(0, len(lst1)+1):\n",
        "  if i > e1 and i < e2:\n",
        "    lst2.append(i)\n",
        "print(lst2)"
      ],
      "execution_count": null,
      "outputs": []
    }
  ]
}