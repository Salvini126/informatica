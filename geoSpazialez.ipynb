{
  "cells": [
    {
      "cell_type": "markdown",
      "metadata": {
        "id": "view-in-github",
        "colab_type": "text"
      },
      "source": [
        "<a href=\"https://colab.research.google.com/github/Salvini126/informatica/blob/main/geoSpazialez.ipynb\" target=\"_parent\"><img src=\"https://colab.research.google.com/assets/colab-badge.svg\" alt=\"Open In Colab\"/></a>"
      ]
    },
    {
      "cell_type": "markdown",
      "metadata": {
        "id": "MSe0ViDTeXVA"
      },
      "source": [
        "# Spatial joins"
      ]
    },
    {
      "cell_type": "markdown",
      "metadata": {
        "id": "eBEyj2UMeXVL"
      },
      "source": [
        "Goals of this notebook:\n",
        "\n",
        "- Based on the `countries` and `cities` dataframes, determine for each city the country in which it is located.\n",
        "- To solve this problem, we will use the the concept of a 'spatial join' operation: combining information of geospatial datasets based on their spatial relationship."
      ]
    },
    {
      "cell_type": "code",
      "source": [
        "import os\n",
        "!pip install rtree\n",
        "!curl -L http://download.osgeo.org/libspatialindex/spatialindex-src-1.8.5.tar.gz | tar xz\n",
        "os.chdir(\"/content/spatialindex-src-1.8.5\")\n",
        "!./configure\n",
        "!make\n",
        "!make install\n",
        "!ldconfig"
      ],
      "metadata": {
        "id": "wYRpFnlUfaQL"
      },
      "execution_count": null,
      "outputs": []
    },
    {
      "cell_type": "code",
      "source": [
        "!pip install geopandas"
      ],
      "metadata": {
        "id": "J9Pp2U1cf23F"
      },
      "execution_count": null,
      "outputs": []
    },
    {
      "cell_type": "code",
      "execution_count": null,
      "metadata": {
        "id": "VBU7Xps8eXVN"
      },
      "outputs": [],
      "source": [
        "%matplotlib inline\n",
        "\n",
        "import pandas as pd\n",
        "import geopandas"
      ]
    },
    {
      "cell_type": "code",
      "source": [
        "from google.colab import drive\n",
        "drive.mount('/content/drive')"
      ],
      "metadata": {
        "colab": {
          "base_uri": "https://localhost:8080/"
        },
        "id": "mmIbFwQIgG0D",
        "outputId": "5c89ed3d-f246-4572-8c04-10aaecbfa0e3"
      },
      "execution_count": null,
      "outputs": [
        {
          "output_type": "stream",
          "name": "stdout",
          "text": [
            "Mounted at /content/drive\n"
          ]
        }
      ]
    },
    {
      "cell_type": "code",
      "execution_count": null,
      "metadata": {
        "id": "OcAmneUzeXVO"
      },
      "outputs": [],
      "source": [
        "countries = geopandas.read_file(\"/content/drive/MyDrive/Colab Notebooks/geopandas-tutorial-master/data/ne_110m_admin_0_countries.zip\")\n",
        "cities = geopandas.read_file(\"/content/drive/MyDrive/Colab Notebooks/geopandas-tutorial-master/data/ne_110m_populated_places.zip\")\n",
        "rivers = geopandas.read_file(\"/content/drive/MyDrive/Colab Notebooks/geopandas-tutorial-master/data/ne_50m_rivers_lake_centerlines.zip\")"
      ]
    },
    {
      "cell_type": "markdown",
      "metadata": {
        "id": "cD9Fbzh7eXVP"
      },
      "source": [
        "## Recap - joining dataframes\n",
        "\n",
        "Pandas provides functionality to join or merge dataframes in different ways, see https://chrisalbon.com/python/data_wrangling/pandas_join_merge_dataframe/ for an overview and https://pandas.pydata.org/pandas-docs/stable/merging.html for the full documentation."
      ]
    },
    {
      "cell_type": "markdown",
      "metadata": {
        "id": "fvAvQEPheXVQ"
      },
      "source": [
        "To illustrate the concept of joining the information of two dataframes with pandas, let's take a small subset of our `cities` and `countries` datasets: "
      ]
    },
    {
      "cell_type": "code",
      "execution_count": null,
      "metadata": {
        "id": "50fUFpDUeXVQ"
      },
      "outputs": [],
      "source": [
        "cities2 = cities[cities['name'].isin(['Bern', 'Brussels', 'London', 'Paris'])].copy()\n",
        "cities2['iso_a3'] = ['CHE', 'BEL', 'GBR', 'FRA']"
      ]
    },
    {
      "cell_type": "code",
      "execution_count": null,
      "metadata": {
        "id": "4_FwOE6OeXVR"
      },
      "outputs": [],
      "source": [
        "cities2"
      ]
    },
    {
      "cell_type": "code",
      "execution_count": null,
      "metadata": {
        "id": "Ti-4_tqUeXVS"
      },
      "outputs": [],
      "source": [
        "countries2 = countries[['iso_a3', 'name', 'continent']]\n",
        "countries2.head()"
      ]
    },
    {
      "cell_type": "markdown",
      "metadata": {
        "id": "fs5Jiv7KeXVU"
      },
      "source": [
        "We added a 'iso_a3' column to the `cities` dataset, indicating a code of the country of the city. This country code is also present in the `countries` dataset, which allows us to merge those two dataframes based on the common column.\n",
        "\n",
        "Joining the `cities` dataframe with `countries` will transfer extra information about the countries (the full name, the continent) to the `cities` dataframe, based on a common key:"
      ]
    },
    {
      "cell_type": "code",
      "execution_count": null,
      "metadata": {
        "id": "2RUQrUxzeXVV"
      },
      "outputs": [],
      "source": [
        "cities2.merge(countries2, on='iso_a3')"
      ]
    },
    {
      "cell_type": "markdown",
      "metadata": {
        "id": "SWILFl5_eXVW"
      },
      "source": [
        "**But**, for this illustrative example, we added the common column manually, it is not present in the original dataset. However, we can still know how to join those two datasets based on their spatial coordinates."
      ]
    },
    {
      "cell_type": "markdown",
      "metadata": {
        "id": "aZKyqi6weXVW"
      },
      "source": [
        "## Recap - spatial relationships between objects\n",
        "\n",
        "In the previous notebook [02-spatial-relationships.ipynb](./02-spatial-relationships-operations.ipynb), we have seen the notion of spatial relationships between geometry objects: within, contains, intersects, ...\n",
        "\n",
        "In this case, we know that each of the cities is located *within* one of the countries, or the other way around that each country can *contain* multiple cities.\n",
        "\n",
        "We can test such relationships using the methods we have seen in the previous notebook:"
      ]
    },
    {
      "cell_type": "code",
      "execution_count": null,
      "metadata": {
        "id": "6dFpXlejeXVX"
      },
      "outputs": [],
      "source": [
        "france = countries.loc[countries['name'] == 'France', 'geometry'].squeeze()"
      ]
    },
    {
      "cell_type": "code",
      "execution_count": null,
      "metadata": {
        "id": "hlbB4o_oeXVX"
      },
      "outputs": [],
      "source": [
        "cities.within(france)"
      ]
    },
    {
      "cell_type": "markdown",
      "metadata": {
        "id": "2MGQqszjeXVY"
      },
      "source": [
        "The above gives us a boolean series, indicating for each point in our `cities` dataframe whether it is located within the area of France or not.  \n",
        "Because this is a boolean series as result, we can use it to filter the original dataframe to only show those cities that are actually within France:"
      ]
    },
    {
      "cell_type": "code",
      "execution_count": null,
      "metadata": {
        "id": "d2-ykZfEeXVY"
      },
      "outputs": [],
      "source": [
        "cities[cities.within(france)]"
      ]
    },
    {
      "cell_type": "markdown",
      "metadata": {
        "id": "0uZREO0GeXVY"
      },
      "source": [
        "We could now repeat the above analysis for each of the countries, and add a column to the `cities` dataframe indicating this country. However, that would be tedious to do manually, and is also exactly what the spatial join operation provides us.\n",
        "\n",
        "*(note: the above result is incorrect, but this is just because of the coarse-ness of the countries dataset)*"
      ]
    },
    {
      "cell_type": "markdown",
      "metadata": {
        "id": "91EXjvKZeXVZ"
      },
      "source": [
        "## Spatial join operation\n",
        "\n",
        "<div class=\"alert alert-info\" style=\"font-size:120%\">\n",
        "    \n",
        "**SPATIAL JOIN** = *transferring attributes from one layer to another based on their spatial relationship* <br>\n",
        "\n",
        "\n",
        "Different parts of this operations:\n",
        "\n",
        "* The GeoDataFrame to which we want add information\n",
        "* The GeoDataFrame that contains the information we want to add\n",
        "* The spatial relationship we want to use to match both datasets ('intersects', 'contains', 'within')\n",
        "* The type of join: left or inner join\n",
        "\n",
        "\n",
        "![](img/illustration-spatial-join.svg)\n",
        "\n",
        "</div>"
      ]
    },
    {
      "cell_type": "markdown",
      "metadata": {
        "id": "TE8AANkgeXVb"
      },
      "source": [
        "In this case, we want to join the `cities` dataframe with the information of the `countries` dataframe, based on the spatial relationship between both datasets.\n",
        "\n",
        "We use the [`geopandas.sjoin`](http://geopandas.readthedocs.io/en/latest/reference/geopandas.sjoin.html) function:"
      ]
    },
    {
      "cell_type": "code",
      "execution_count": null,
      "metadata": {
        "id": "OpiSyB6eeXVb"
      },
      "outputs": [],
      "source": [
        "joined = geopandas.sjoin(cities, countries, op='within', how='left')"
      ]
    },
    {
      "cell_type": "code",
      "execution_count": null,
      "metadata": {
        "id": "o73sXoSxeXVc",
        "colab": {
          "base_uri": "https://localhost:8080/",
          "height": 424
        },
        "outputId": "fea3db25-0502-4c35-8f3c-e551543c5227"
      },
      "outputs": [
        {
          "output_type": "execute_result",
          "data": {
            "text/html": [
              "\n",
              "  <div id=\"df-c174cea3-ed13-46f4-a3f6-520db73630f2\">\n",
              "    <div class=\"colab-df-container\">\n",
              "      <div>\n",
              "<style scoped>\n",
              "    .dataframe tbody tr th:only-of-type {\n",
              "        vertical-align: middle;\n",
              "    }\n",
              "\n",
              "    .dataframe tbody tr th {\n",
              "        vertical-align: top;\n",
              "    }\n",
              "\n",
              "    .dataframe thead th {\n",
              "        text-align: right;\n",
              "    }\n",
              "</style>\n",
              "<table border=\"1\" class=\"dataframe\">\n",
              "  <thead>\n",
              "    <tr style=\"text-align: right;\">\n",
              "      <th></th>\n",
              "      <th>name_left</th>\n",
              "      <th>geometry</th>\n",
              "      <th>index_right</th>\n",
              "      <th>iso_a3</th>\n",
              "      <th>name_right</th>\n",
              "      <th>continent</th>\n",
              "      <th>pop_est</th>\n",
              "      <th>gdp_md_est</th>\n",
              "    </tr>\n",
              "  </thead>\n",
              "  <tbody>\n",
              "    <tr>\n",
              "      <th>0</th>\n",
              "      <td>Vatican City</td>\n",
              "      <td>POINT (12.45339 41.90328)</td>\n",
              "      <td>79.0</td>\n",
              "      <td>ITA</td>\n",
              "      <td>Italy</td>\n",
              "      <td>Europe</td>\n",
              "      <td>6.213780e+07</td>\n",
              "      <td>2221000.0</td>\n",
              "    </tr>\n",
              "    <tr>\n",
              "      <th>1</th>\n",
              "      <td>San Marino</td>\n",
              "      <td>POINT (12.44177 43.93610)</td>\n",
              "      <td>79.0</td>\n",
              "      <td>ITA</td>\n",
              "      <td>Italy</td>\n",
              "      <td>Europe</td>\n",
              "      <td>6.213780e+07</td>\n",
              "      <td>2221000.0</td>\n",
              "    </tr>\n",
              "    <tr>\n",
              "      <th>2</th>\n",
              "      <td>Vaduz</td>\n",
              "      <td>POINT (9.51667 47.13372)</td>\n",
              "      <td>9.0</td>\n",
              "      <td>AUT</td>\n",
              "      <td>Austria</td>\n",
              "      <td>Europe</td>\n",
              "      <td>8.754413e+06</td>\n",
              "      <td>416600.0</td>\n",
              "    </tr>\n",
              "    <tr>\n",
              "      <th>3</th>\n",
              "      <td>Lobamba</td>\n",
              "      <td>POINT (31.20000 -26.46667)</td>\n",
              "      <td>152.0</td>\n",
              "      <td>SWZ</td>\n",
              "      <td>Swaziland</td>\n",
              "      <td>Africa</td>\n",
              "      <td>1.467152e+06</td>\n",
              "      <td>11060.0</td>\n",
              "    </tr>\n",
              "    <tr>\n",
              "      <th>4</th>\n",
              "      <td>Luxembourg</td>\n",
              "      <td>POINT (6.13000 49.61166)</td>\n",
              "      <td>97.0</td>\n",
              "      <td>LUX</td>\n",
              "      <td>Luxembourg</td>\n",
              "      <td>Europe</td>\n",
              "      <td>5.941300e+05</td>\n",
              "      <td>58740.0</td>\n",
              "    </tr>\n",
              "    <tr>\n",
              "      <th>...</th>\n",
              "      <td>...</td>\n",
              "      <td>...</td>\n",
              "      <td>...</td>\n",
              "      <td>...</td>\n",
              "      <td>...</td>\n",
              "      <td>...</td>\n",
              "      <td>...</td>\n",
              "      <td>...</td>\n",
              "    </tr>\n",
              "    <tr>\n",
              "      <th>238</th>\n",
              "      <td>Rio de Janeiro</td>\n",
              "      <td>POINT (-43.22697 -22.92308)</td>\n",
              "      <td>22.0</td>\n",
              "      <td>BRA</td>\n",
              "      <td>Brazil</td>\n",
              "      <td>South America</td>\n",
              "      <td>2.073534e+08</td>\n",
              "      <td>3081000.0</td>\n",
              "    </tr>\n",
              "    <tr>\n",
              "      <th>239</th>\n",
              "      <td>São Paulo</td>\n",
              "      <td>POINT (-46.62697 -23.55673)</td>\n",
              "      <td>22.0</td>\n",
              "      <td>BRA</td>\n",
              "      <td>Brazil</td>\n",
              "      <td>South America</td>\n",
              "      <td>2.073534e+08</td>\n",
              "      <td>3081000.0</td>\n",
              "    </tr>\n",
              "    <tr>\n",
              "      <th>240</th>\n",
              "      <td>Sydney</td>\n",
              "      <td>POINT (151.18323 -33.91807)</td>\n",
              "      <td>8.0</td>\n",
              "      <td>AUS</td>\n",
              "      <td>Australia</td>\n",
              "      <td>Oceania</td>\n",
              "      <td>2.323241e+07</td>\n",
              "      <td>1189000.0</td>\n",
              "    </tr>\n",
              "    <tr>\n",
              "      <th>241</th>\n",
              "      <td>Singapore</td>\n",
              "      <td>POINT (103.85387 1.29498)</td>\n",
              "      <td>111.0</td>\n",
              "      <td>MYS</td>\n",
              "      <td>Malaysia</td>\n",
              "      <td>Asia</td>\n",
              "      <td>3.138199e+07</td>\n",
              "      <td>863000.0</td>\n",
              "    </tr>\n",
              "    <tr>\n",
              "      <th>242</th>\n",
              "      <td>Hong Kong</td>\n",
              "      <td>POINT (114.18306 22.30693)</td>\n",
              "      <td>30.0</td>\n",
              "      <td>CHN</td>\n",
              "      <td>China</td>\n",
              "      <td>Asia</td>\n",
              "      <td>1.379303e+09</td>\n",
              "      <td>21140000.0</td>\n",
              "    </tr>\n",
              "  </tbody>\n",
              "</table>\n",
              "<p>243 rows × 8 columns</p>\n",
              "</div>\n",
              "      <button class=\"colab-df-convert\" onclick=\"convertToInteractive('df-c174cea3-ed13-46f4-a3f6-520db73630f2')\"\n",
              "              title=\"Convert this dataframe to an interactive table.\"\n",
              "              style=\"display:none;\">\n",
              "        \n",
              "  <svg xmlns=\"http://www.w3.org/2000/svg\" height=\"24px\"viewBox=\"0 0 24 24\"\n",
              "       width=\"24px\">\n",
              "    <path d=\"M0 0h24v24H0V0z\" fill=\"none\"/>\n",
              "    <path d=\"M18.56 5.44l.94 2.06.94-2.06 2.06-.94-2.06-.94-.94-2.06-.94 2.06-2.06.94zm-11 1L8.5 8.5l.94-2.06 2.06-.94-2.06-.94L8.5 2.5l-.94 2.06-2.06.94zm10 10l.94 2.06.94-2.06 2.06-.94-2.06-.94-.94-2.06-.94 2.06-2.06.94z\"/><path d=\"M17.41 7.96l-1.37-1.37c-.4-.4-.92-.59-1.43-.59-.52 0-1.04.2-1.43.59L10.3 9.45l-7.72 7.72c-.78.78-.78 2.05 0 2.83L4 21.41c.39.39.9.59 1.41.59.51 0 1.02-.2 1.41-.59l7.78-7.78 2.81-2.81c.8-.78.8-2.07 0-2.86zM5.41 20L4 18.59l7.72-7.72 1.47 1.35L5.41 20z\"/>\n",
              "  </svg>\n",
              "      </button>\n",
              "      \n",
              "  <style>\n",
              "    .colab-df-container {\n",
              "      display:flex;\n",
              "      flex-wrap:wrap;\n",
              "      gap: 12px;\n",
              "    }\n",
              "\n",
              "    .colab-df-convert {\n",
              "      background-color: #E8F0FE;\n",
              "      border: none;\n",
              "      border-radius: 50%;\n",
              "      cursor: pointer;\n",
              "      display: none;\n",
              "      fill: #1967D2;\n",
              "      height: 32px;\n",
              "      padding: 0 0 0 0;\n",
              "      width: 32px;\n",
              "    }\n",
              "\n",
              "    .colab-df-convert:hover {\n",
              "      background-color: #E2EBFA;\n",
              "      box-shadow: 0px 1px 2px rgba(60, 64, 67, 0.3), 0px 1px 3px 1px rgba(60, 64, 67, 0.15);\n",
              "      fill: #174EA6;\n",
              "    }\n",
              "\n",
              "    [theme=dark] .colab-df-convert {\n",
              "      background-color: #3B4455;\n",
              "      fill: #D2E3FC;\n",
              "    }\n",
              "\n",
              "    [theme=dark] .colab-df-convert:hover {\n",
              "      background-color: #434B5C;\n",
              "      box-shadow: 0px 1px 3px 1px rgba(0, 0, 0, 0.15);\n",
              "      filter: drop-shadow(0px 1px 2px rgba(0, 0, 0, 0.3));\n",
              "      fill: #FFFFFF;\n",
              "    }\n",
              "  </style>\n",
              "\n",
              "      <script>\n",
              "        const buttonEl =\n",
              "          document.querySelector('#df-c174cea3-ed13-46f4-a3f6-520db73630f2 button.colab-df-convert');\n",
              "        buttonEl.style.display =\n",
              "          google.colab.kernel.accessAllowed ? 'block' : 'none';\n",
              "\n",
              "        async function convertToInteractive(key) {\n",
              "          const element = document.querySelector('#df-c174cea3-ed13-46f4-a3f6-520db73630f2');\n",
              "          const dataTable =\n",
              "            await google.colab.kernel.invokeFunction('convertToInteractive',\n",
              "                                                     [key], {});\n",
              "          if (!dataTable) return;\n",
              "\n",
              "          const docLinkHtml = 'Like what you see? Visit the ' +\n",
              "            '<a target=\"_blank\" href=https://colab.research.google.com/notebooks/data_table.ipynb>data table notebook</a>'\n",
              "            + ' to learn more about interactive tables.';\n",
              "          element.innerHTML = '';\n",
              "          dataTable['output_type'] = 'display_data';\n",
              "          await google.colab.output.renderOutput(dataTable, element);\n",
              "          const docLink = document.createElement('div');\n",
              "          docLink.innerHTML = docLinkHtml;\n",
              "          element.appendChild(docLink);\n",
              "        }\n",
              "      </script>\n",
              "    </div>\n",
              "  </div>\n",
              "  "
            ],
            "text/plain": [
              "          name_left                     geometry  ...       pop_est  gdp_md_est\n",
              "0      Vatican City    POINT (12.45339 41.90328)  ...  6.213780e+07   2221000.0\n",
              "1        San Marino    POINT (12.44177 43.93610)  ...  6.213780e+07   2221000.0\n",
              "2             Vaduz     POINT (9.51667 47.13372)  ...  8.754413e+06    416600.0\n",
              "3           Lobamba   POINT (31.20000 -26.46667)  ...  1.467152e+06     11060.0\n",
              "4        Luxembourg     POINT (6.13000 49.61166)  ...  5.941300e+05     58740.0\n",
              "..              ...                          ...  ...           ...         ...\n",
              "238  Rio de Janeiro  POINT (-43.22697 -22.92308)  ...  2.073534e+08   3081000.0\n",
              "239       São Paulo  POINT (-46.62697 -23.55673)  ...  2.073534e+08   3081000.0\n",
              "240          Sydney  POINT (151.18323 -33.91807)  ...  2.323241e+07   1189000.0\n",
              "241       Singapore    POINT (103.85387 1.29498)  ...  3.138199e+07    863000.0\n",
              "242       Hong Kong   POINT (114.18306 22.30693)  ...  1.379303e+09  21140000.0\n",
              "\n",
              "[243 rows x 8 columns]"
            ]
          },
          "metadata": {},
          "execution_count": 9
        }
      ],
      "source": [
        "joined"
      ]
    },
    {
      "cell_type": "code",
      "execution_count": null,
      "metadata": {
        "id": "0t7s__-YeXVc",
        "colab": {
          "base_uri": "https://localhost:8080/"
        },
        "outputId": "ec4b3bc2-4116-4478-b4fb-14e5c9ddcbe0"
      },
      "outputs": [
        {
          "output_type": "execute_result",
          "data": {
            "text/plain": [
              "Asia             59\n",
              "Africa           57\n",
              "Europe           46\n",
              "North America    26\n",
              "South America    14\n",
              "Oceania           8\n",
              "Name: continent, dtype: int64"
            ]
          },
          "metadata": {},
          "execution_count": 10
        }
      ],
      "source": [
        "joined['continent'].value_counts()"
      ]
    },
    {
      "cell_type": "markdown",
      "source": [
        "visuallizzare i comuni di italia con le regioni con cui si trovano\n",
        "visuallizare le proovicie di italia con le regioni c\n",
        "visualizzare i comuni di italia con le provincie\n",
        "visualizzare i ncomuni di italia con le regioni, cololare le regioni a seconda di quanti comuni hanno\n",
        "visualizzare i nprovincie di italia con le regioni, cololare le regioni a seconda di quanti provincie hanno\n",
        "\n"
      ],
      "metadata": {
        "id": "Z4LCnLOpieOb"
      }
    },
    {
      "cell_type": "markdown",
      "source": [
        "visualizzare i ncomuni di italia con le regioni, cololare le regioni a seconda di quanti provincie hanno"
      ],
      "metadata": {
        "id": "2gbNldj3jIiW"
      }
    },
    {
      "cell_type": "markdown",
      "source": [
        ""
      ],
      "metadata": {
        "id": "JE8fbrLkjJxG"
      }
    },
    {
      "cell_type": "markdown",
      "source": [
        ""
      ],
      "metadata": {
        "id": "XNKmVn0djJkv"
      }
    },
    {
      "cell_type": "code",
      "source": [
        ""
      ],
      "metadata": {
        "id": "jRryNUmXicJ7"
      },
      "execution_count": null,
      "outputs": []
    },
    {
      "cell_type": "markdown",
      "source": [
        ""
      ],
      "metadata": {
        "id": "wbcyoEzJjIlW"
      }
    },
    {
      "cell_type": "markdown",
      "metadata": {
        "id": "EIjGmhQQeXVd"
      },
      "source": [
        "## Lets's practice!\n",
        "\n",
        "We will again use the Paris datasets to do some exercises. Let's start importing them again:"
      ]
    },
    {
      "cell_type": "code",
      "execution_count": null,
      "metadata": {
        "id": "kzoJoJTueXVd"
      },
      "outputs": [],
      "source": [
        "districts = geopandas.read_file(\"data/paris_districts.geojson\").to_crs(epsg=2154)\n",
        "stations = geopandas.read_file(\"data/paris_bike_stations.geojson\").to_crs(epsg=2154)"
      ]
    },
    {
      "cell_type": "markdown",
      "metadata": {
        "id": "isPvT2iHeXVd"
      },
      "source": [
        "<div class=\"alert alert-success\">\n",
        "\n",
        "**EXERCISE:**\n",
        "\n",
        "* Determine for each bike station in which district it is located (using a spatial join!). Call the result `joined`.\n",
        "\n",
        "</div>"
      ]
    },
    {
      "cell_type": "code",
      "execution_count": null,
      "metadata": {
        "clear_cell": true,
        "id": "HGKZz6x9eXVd"
      },
      "outputs": [],
      "source": [
        "# %load _solved/solutions/04-spatial-joins1.py"
      ]
    },
    {
      "cell_type": "code",
      "execution_count": null,
      "metadata": {
        "clear_cell": true,
        "id": "4k95OGdheXVe"
      },
      "outputs": [],
      "source": [
        "# %load _solved/solutions/04-spatial-joins2.py"
      ]
    },
    {
      "cell_type": "markdown",
      "metadata": {
        "id": "FH8x39ZAeXVe"
      },
      "source": [
        "<div class=\"alert alert-success\">\n",
        "\n",
        "**EXERCISE: Map of tree density by district (I)**\n",
        "\n",
        "Using a dataset of all trees in public spaces in Paris, the goal is to make a map of the tree density by district. For this, we first need to find out how many trees each district contains, which we will do in this exercise. In the following exercise, we will then use this result to calculate the density and create a map.\n",
        "\n",
        "To obtain the tree count by district, we first need to know in which district each tree is located, which we can do with a spatial join. Then, using the result of the spatial join, we will calculate the number of trees located in each district using the pandas 'group-by' functionality.\n",
        "\n",
        "- Import the trees dataset `\"paris_trees.gpkg\"` and call the result `trees`. Also read the districts dataset we have seen previously (`\"paris_districts.geojson\"`), and call this `districts`. Convert the districts dataset to the same CRS as the trees dataset.\n",
        "- Add a column with the `'district_name'` to the trees dataset using a spatial join. Call the result `joined`.\n",
        "\n",
        "<details><summary>Hints</summary>\n",
        "\n",
        "- Remember, we can perform a spatial join with the `geopandas.sjoin()` function.\n",
        "- `geopandas.sjoin()` takes as first argument the dataframe to which we want to add information, and as second argument the dataframe that contains this additional information.\n",
        "- The `op` argument is used to specify which spatial relationship between both dataframes we want to use for joining (options are `'intersects'`, `'contains'`, `'within'`).\n",
        "\n",
        "</details>\n",
        "\n",
        "</div>"
      ]
    },
    {
      "cell_type": "code",
      "execution_count": null,
      "metadata": {
        "clear_cell": true,
        "id": "vuOzu1-peXVe"
      },
      "outputs": [],
      "source": [
        "# %load _solved/solutions/04-spatial-joins3.py"
      ]
    },
    {
      "cell_type": "code",
      "execution_count": null,
      "metadata": {
        "clear_cell": true,
        "id": "OtO8SVNZeXVf"
      },
      "outputs": [],
      "source": [
        "# %load _solved/solutions/04-spatial-joins4.py"
      ]
    },
    {
      "cell_type": "code",
      "execution_count": null,
      "metadata": {
        "clear_cell": true,
        "id": "1w1z2xAreXVf"
      },
      "outputs": [],
      "source": [
        "# %load _solved/solutions/04-spatial-joins5.py"
      ]
    },
    {
      "cell_type": "markdown",
      "metadata": {
        "id": "Q2dXN8_3eXVf"
      },
      "source": [
        "<div class=\"alert alert-success\">\n",
        "\n",
        "**EXERCISE: Map of tree density by district (II)**\n",
        "\n",
        "- Calculate the number of trees located in each district: group the `joined` DataFrame by the `'district_name'` column, and calculate the size of each group. We convert the resulting Series `trees_by_district` to a DataFrame for the next exercise.\n",
        "\n",
        "<details><summary>Hints</summary>\n",
        "\n",
        "- The general group-by syntax in pandas is: `df.groupby('key').aggregation_method()`, substituting 'key' and 'aggregation_method' with the appropriate column name and method. \n",
        "- To know the size of groups, we can use the `.size()` method.\n",
        "\n",
        "\n",
        "</details>\n",
        "\n",
        "</div>"
      ]
    },
    {
      "cell_type": "code",
      "execution_count": null,
      "metadata": {
        "clear_cell": true,
        "id": "RdiB9MRqeXVf"
      },
      "outputs": [],
      "source": [
        "# %load _solved/solutions/04-spatial-joins6.py"
      ]
    },
    {
      "cell_type": "code",
      "execution_count": null,
      "metadata": {
        "clear_cell": true,
        "id": "83TGymeIeXVg"
      },
      "outputs": [],
      "source": [
        "# %load _solved/solutions/04-spatial-joins7.py"
      ]
    },
    {
      "cell_type": "code",
      "execution_count": null,
      "metadata": {
        "clear_cell": true,
        "id": "YzEcK1sneXVg"
      },
      "outputs": [],
      "source": [
        "# %load _solved/solutions/04-spatial-joins8.py"
      ]
    },
    {
      "cell_type": "markdown",
      "metadata": {
        "id": "qwMkUEVTeXVg"
      },
      "source": [
        "<div class=\"alert alert-success\">\n",
        "\n",
        "**EXERCISE: Map of tree density by district (III)**\n",
        "\n",
        "Now we have obtained the number of trees by district, we can make the map of the districts colored by the tree density.\n",
        "\n",
        "For this, we first need to merge the number of trees in each district we calculated in the previous step (`trees_by_district`) back to the districts dataset. We will use the [`pd.merge()`](https://pandas.pydata.org/pandas-docs/stable/reference/api/pandas.merge.html) function to join two dataframes based on a common column.\n",
        "\n",
        "Since not all districts have the same size, it is a fairer comparison to visualize the tree density: the number of trees relative to the area.\n",
        "\n",
        "- Use the `pd.merge()` function to merge `districts` and `trees_by_district` dataframes on the `'district_name'` column. Call the result `districts_trees`.\n",
        "- Add a column `'n_trees_per_area'` to the `districts_trees` dataframe, based on the `'n_trees'` column divided by the area.\n",
        "- Make a plot of the `districts_trees` dataframe, using the `'n_trees_per_area'` column to determine the color of the polygons.\n",
        "\n",
        "\n",
        "<details><summary>Hints</summary>\n",
        "\n",
        "- The pandas `pd.merge()` function takes the two dataframes you want to merge as the first two arguments.\n",
        "- The column name on which you want to merge both datasets can be specified with the `on` keyword.\n",
        "- Accessing a column of a DataFrame can be done with `df['col']`, while adding a column to a DataFrame can be done with `df['new_col'] = values` where `values` can be the result of a computation.\n",
        "- Remember, the area of each geometry in a GeoSeries or GeoDataFrame can be retrieved using the `area` attribute. So considering a GeoDataFrame `gdf`, then `gdf.geometry.area` will return a Series with the area of each geometry.\n",
        "- We can use the `.plot()` method of a GeoDataFrame to make a visualization of the geometries. \n",
        "- For using one of the columns of the GeoDataFrame to determine the fill color, use the `column=` keyword.\n",
        "\n",
        "\n",
        "</details>\n",
        "\n",
        "</div>"
      ]
    },
    {
      "cell_type": "code",
      "execution_count": null,
      "metadata": {
        "clear_cell": true,
        "id": "ihlqCks7eXVg"
      },
      "outputs": [],
      "source": [
        "# %load _solved/solutions/04-spatial-joins9.py"
      ]
    },
    {
      "cell_type": "code",
      "execution_count": null,
      "metadata": {
        "clear_cell": true,
        "id": "RZni_k0HeXVh"
      },
      "outputs": [],
      "source": [
        "# %load _solved/solutions/04-spatial-joins10.py"
      ]
    },
    {
      "cell_type": "code",
      "execution_count": null,
      "metadata": {
        "clear_cell": true,
        "id": "yRElE38peXVh"
      },
      "outputs": [],
      "source": [
        "# %load _solved/solutions/04-spatial-joins11.py"
      ]
    },
    {
      "cell_type": "markdown",
      "metadata": {
        "id": "C91f-taceXVh"
      },
      "source": [
        "## The overlay operation\n",
        "\n",
        "In the spatial join operation above, we are not changing the geometries itself. We are not joining geometries, but joining attributes based on a spatial relationship between the geometries. This also means that the geometries need to at least overlap partially.\n",
        "\n",
        "If you want to create new geometries based on joining (combining) geometries of different dataframes into one new dataframe (eg by taking the intersection of the geometries), you want an **overlay** operation."
      ]
    },
    {
      "cell_type": "code",
      "execution_count": null,
      "metadata": {
        "id": "4rfVgFwXeXVh"
      },
      "outputs": [],
      "source": [
        "africa = countries[countries['continent'] == 'Africa']"
      ]
    },
    {
      "cell_type": "code",
      "execution_count": null,
      "metadata": {
        "id": "EJoLY4k7eXVi"
      },
      "outputs": [],
      "source": [
        "africa.plot()"
      ]
    },
    {
      "cell_type": "code",
      "execution_count": null,
      "metadata": {
        "id": "mYdyysT4eXVi"
      },
      "outputs": [],
      "source": [
        "cities['geometry'] = cities.buffer(2)"
      ]
    },
    {
      "cell_type": "code",
      "execution_count": null,
      "metadata": {
        "id": "UZJZ3zb0eXVi"
      },
      "outputs": [],
      "source": [
        "geopandas.overlay(africa, cities, how='difference').plot()"
      ]
    },
    {
      "cell_type": "markdown",
      "metadata": {
        "id": "uJTVhgOweXVi"
      },
      "source": [
        "<div class=\"alert alert-info\" style=\"font-size:120%\">\n",
        "<b>REMEMBER</b> <br>\n",
        "\n",
        "* **Spatial join**: transfer attributes from one dataframe to another based on the spatial relationship\n",
        "* **Spatial overlay**: construct new geometries based on spatial operation between both dataframes (and combining attributes of both dataframes)\n",
        "\n",
        "</div>"
      ]
    },
    {
      "cell_type": "markdown",
      "metadata": {
        "id": "DjC5x29eeXVj"
      },
      "source": [
        "<div class=\"alert alert-success\">\n",
        "\n",
        "**EXERCISE: Exploring a Land Use dataset**\n",
        "\n",
        "For the following exercises, we first introduce a new dataset: a dataset about the land use of Paris (a simplified version based on the open European [Urban Atlas](https://land.copernicus.eu/local/urban-atlas)). The land use indicates for what kind of activity a certain area is used, such as residential area or for recreation. It is a polygon dataset, with a label representing the land use class for different areas in Paris.\n",
        "\n",
        "In this exercise, we will read the data, explore it visually, and calculate the total area of the different classes of land use in the area of Paris.\n",
        "\n",
        "* Read in the `'paris_land_use.shp'` file and assign the result to a variable `land_use`.\n",
        "* Make a plot of `land_use`, using the `'class'` column to color the polygons. We also add a legend. Note: it might take a few seconds for the plot to generate because there are a lot of polygons.\n",
        "* Add a new column `'area'` with the area of each polygon.\n",
        "* Calculate the total area in km² for each `'class'` using the `groupby()` method, and print the result.\n",
        "\n",
        "<details><summary>Hints</summary>\n",
        "\n",
        "* Reading a file can be done with the `geopandas.read_file()` function.\n",
        "* To use a column to color the geometries, use the `column` keyword to indicate the column name.\n",
        "* The area of each geometry can be accessed with the `area` attribute of the `geometry` of the GeoDataFrame.\n",
        "* The `groupby()` method takes the column name on which you want to group as the first argument.\n",
        "\n",
        "</details>\n",
        "\n",
        "</div>"
      ]
    },
    {
      "cell_type": "code",
      "execution_count": null,
      "metadata": {
        "clear_cell": true,
        "id": "iaZ9nr9veXVj"
      },
      "outputs": [],
      "source": [
        "# %load _solved/solutions/04-spatial-joins12.py"
      ]
    },
    {
      "cell_type": "code",
      "execution_count": null,
      "metadata": {
        "clear_cell": true,
        "id": "8k7R5QmWeXVj"
      },
      "outputs": [],
      "source": [
        "# %load _solved/solutions/04-spatial-joins13.py"
      ]
    },
    {
      "cell_type": "code",
      "execution_count": null,
      "metadata": {
        "clear_cell": true,
        "id": "jh4zMIkCeXVk"
      },
      "outputs": [],
      "source": [
        "# %load _solved/solutions/04-spatial-joins14.py"
      ]
    },
    {
      "cell_type": "code",
      "execution_count": null,
      "metadata": {
        "clear_cell": true,
        "id": "0rauLyVaeXVm"
      },
      "outputs": [],
      "source": [
        "# %load _solved/solutions/04-spatial-joins15.py"
      ]
    },
    {
      "cell_type": "markdown",
      "metadata": {
        "id": "_DLiS3kXeXVn"
      },
      "source": [
        "<div class=\"alert alert-success\">\n",
        "\n",
        "**EXERCISE: Intersection of two polygons**\n",
        "\n",
        "For this exercise, we are going to use 2 individual polygons: the district of Muette extracted from the `districts` dataset, and the green urban area of Boulogne, a large public park in the west of Paris, extracted from the `land_use` dataset. The two polygons have already been assigned to the `muette` and `park_boulogne` variables.\n",
        "\n",
        "We first visualize the two polygons. You will see that they overlap, but the park is not fully located in the district of Muette. Let's determine the overlapping part.\n",
        "\n",
        "* Plot the two polygons in a single map to examine visually the degree of overlap\n",
        "* Calculate the intersection of the `park_boulogne` and `muette` polygons.\n",
        "* Print the proportion of the area of the district that is occupied by the park.\n",
        "\n",
        "<details><summary>Hints</summary>\n",
        "\n",
        "* The intersection of to scalar polygons can be calculated with the `intersection()` method of one of the polygons, and passing the other polygon as the argument to that method.\n",
        "\n",
        "</details>\n",
        "\n",
        "</div>"
      ]
    },
    {
      "cell_type": "code",
      "execution_count": null,
      "metadata": {
        "id": "UlUdgJB_eXVn"
      },
      "outputs": [],
      "source": [
        "land_use = geopandas.read_file(\"zip://./data/paris_land_use.zip\")\n",
        "districts = geopandas.read_file(\"data/paris_districts.geojson\").to_crs(land_use.crs)"
      ]
    },
    {
      "cell_type": "code",
      "execution_count": null,
      "metadata": {
        "id": "2_1RLgFteXVo"
      },
      "outputs": [],
      "source": [
        "# extract polygons\n",
        "land_use['area'] = land_use.geometry.area\n",
        "park_boulogne = land_use[land_use['class'] == \"Green urban areas\"].sort_values('area').geometry.iloc[-1]\n",
        "muette = districts[districts.district_name == 'Muette'].geometry.squeeze()"
      ]
    },
    {
      "cell_type": "code",
      "execution_count": null,
      "metadata": {
        "id": "b4LKNX4DeXVo"
      },
      "outputs": [],
      "source": [
        "# Plot the two polygons\n",
        "geopandas.GeoSeries([park_boulogne, muette]).plot(alpha=0.5, color=['green', 'blue'])"
      ]
    },
    {
      "cell_type": "code",
      "execution_count": null,
      "metadata": {
        "clear_cell": true,
        "id": "m0VmpB93eXVo"
      },
      "outputs": [],
      "source": [
        "# %load _solved/solutions/04-spatial-joins16.py"
      ]
    },
    {
      "cell_type": "code",
      "execution_count": null,
      "metadata": {
        "clear_cell": true,
        "id": "-lFxxslHeXVp"
      },
      "outputs": [],
      "source": [
        "# %load _solved/solutions/04-spatial-joins17.py"
      ]
    },
    {
      "cell_type": "code",
      "execution_count": null,
      "metadata": {
        "clear_cell": true,
        "id": "cCC7ZpHOeXVp"
      },
      "outputs": [],
      "source": [
        "# %load _solved/solutions/04-spatial-joins18.py"
      ]
    },
    {
      "cell_type": "markdown",
      "metadata": {
        "id": "wuHdB709eXVp"
      },
      "source": [
        "<div class=\"alert alert-success\">\n",
        "\n",
        "**EXERCISE: Intersecting a GeoDataFrame with a Polygon**\n",
        "\n",
        "Combining the land use dataset and the districts dataset, we can now investigate what the land use is in a certain district.\n",
        "\n",
        "For that, we first need to determine the intersection of the land use dataset with a given district. Let's take again the *Muette* district as example case.\n",
        "\n",
        "* Calculate the intersection of the `land_use` polygons with the single `muette` polygon. Call the result `land_use_muette`.\n",
        "* Make a quick plot of this intersection, and pass `edgecolor='black'` to more clearly see the boundaries of the different polygons.\n",
        "* Print the first five rows of `land_use_muette`.\n",
        "\n",
        "<details><summary>Hints</summary>\n",
        "\n",
        "* The intersection of each geometry of a GeoSeries with another single geometry can be performed with the `intersection()` method of a GeoSeries.\n",
        "* The `intersection()` method takes as argument the geometry for which to calculate the intersection.\n",
        "\n",
        "</details>\n",
        "\n",
        "</div>"
      ]
    },
    {
      "cell_type": "code",
      "execution_count": null,
      "metadata": {
        "id": "PlfESXENeXVp"
      },
      "outputs": [],
      "source": [
        "land_use = geopandas.read_file(\"zip://./data/paris_land_use.zip\")\n",
        "districts = geopandas.read_file(\"data/paris_districts.geojson\").to_crs(land_use.crs)\n",
        "muette = districts[districts.district_name == 'Muette'].geometry.squeeze()"
      ]
    },
    {
      "cell_type": "code",
      "execution_count": null,
      "metadata": {
        "clear_cell": true,
        "id": "KhdvokafeXVp"
      },
      "outputs": [],
      "source": [
        "# %load _solved/solutions/04-spatial-joins19.py"
      ]
    },
    {
      "cell_type": "code",
      "execution_count": null,
      "metadata": {
        "clear_cell": true,
        "id": "HlL4uhCyeXVq"
      },
      "outputs": [],
      "source": [
        "# %load _solved/solutions/04-spatial-joins20.py"
      ]
    },
    {
      "cell_type": "code",
      "execution_count": null,
      "metadata": {
        "id": "D1NanGCqeXVq"
      },
      "outputs": [],
      "source": [
        "# Print the first five rows of the intersection\n",
        "land_use_muette.head()"
      ]
    },
    {
      "cell_type": "markdown",
      "metadata": {
        "id": "f9Mbxh9WeXVq"
      },
      "source": [
        "You can see in the plot that we now only have a subset of the full land use dataset. The `land_use_muette` still has the same number of rows as the original `land_use`, though. But many of the rows, as you could see by printing the first rows, consist now of empty polygons when it did not intersect with the Muette district."
      ]
    },
    {
      "cell_type": "code",
      "execution_count": null,
      "metadata": {
        "id": "_2RmbDYdeXVq"
      },
      "outputs": [],
      "source": [
        "land_use_muette = land_use.copy()\n",
        "land_use_muette['geometry'] = land_use.geometry.intersection(muette)\n",
        "land_use_muette = land_use_muette[~land_use_muette.is_empty]\n",
        "land_use_muette.head()"
      ]
    },
    {
      "cell_type": "code",
      "execution_count": null,
      "metadata": {
        "id": "CfMo4p4qeXVq"
      },
      "outputs": [],
      "source": [
        "land_use_muette.dissolve(by='class')"
      ]
    },
    {
      "cell_type": "code",
      "execution_count": null,
      "metadata": {
        "id": "k-uSDSNaeXVr"
      },
      "outputs": [],
      "source": [
        "land_use_muette.dissolve(by='class').reset_index().plot(column='class')"
      ]
    },
    {
      "cell_type": "markdown",
      "metadata": {
        "id": "2rKbsOO2eXVr"
      },
      "source": [
        "<div class=\"alert alert-success\">\n",
        "\n",
        "**EXERCISE: Overlaying spatial datasets**\n",
        "\n",
        "We will now combine both datasets in an overlay operation. Create a new `GeoDataFrame` consisting of the intersection of the land use polygons wich each of the districts, but make sure to bring the attribute data from both source layers.\n",
        "\n",
        "Once we created the overlay of the land use and districts datasets, we can more easily inspect the land use for the different districts. Let's get back to the example district of Muette, and inspect the land use of that district.\n",
        "\n",
        "* Create a new GeoDataFrame from the intersections of `land_use` and `districts`. Assign the result to a variable `combined`.\n",
        "* Print the first rows the resulting GeoDataFrame (`combined`).\n",
        "* Add a new column `'area'` with the area of each polygon to the `combined` GeoDataFrame.\n",
        "* Create a subset called `land_use_muette` where the `'district_name'` is equal to \"Muette\".\n",
        "* Make a plot of `land_use_muette`, using the `'class'` column to color the polygons.\n",
        "* Calculate the total area for each `'class'` of `land_use_muette` using the `groupby()` method, and print the result.\n",
        "\n",
        "<details><summary>Hints</summary>\n",
        "\n",
        "* The intersection of two GeoDataFrames can be calculated with the `geopandas.overlay()` function.\n",
        "* The `overlay()` functions takes first the two GeoDataFrames to combine, and a third `how` keyword indicating how to combine the two layers.\n",
        "* For making an overlay based on the intersection, you can pass `how='intersection'`.\n",
        "* The area of each geometry can be accessed with the `area` attribute of the `geometry` of the GeoDataFrame.\n",
        "* To use a column to color the geometries, pass its name to the `column` keyword.\n",
        "* The `groupby()` method takes the column name on which you want to group as the first argument.\n",
        "* The total area for each class can be calculated by taking the `sum()` of the area.\n",
        "\n",
        "</details>\n",
        "\n",
        "</div>"
      ]
    },
    {
      "cell_type": "code",
      "execution_count": null,
      "metadata": {
        "id": "nCZUyVP-eXVr"
      },
      "outputs": [],
      "source": [
        "land_use = geopandas.read_file(\"zip://./data/paris_land_use.zip\")\n",
        "districts = geopandas.read_file(\"data/paris_districts.geojson\").to_crs(land_use.crs)"
      ]
    },
    {
      "cell_type": "code",
      "execution_count": null,
      "metadata": {
        "clear_cell": true,
        "id": "_my4VkwYeXVr"
      },
      "outputs": [],
      "source": [
        "# %load _solved/solutions/04-spatial-joins21.py"
      ]
    },
    {
      "cell_type": "code",
      "execution_count": null,
      "metadata": {
        "clear_cell": true,
        "id": "jEA8_goIeXVr"
      },
      "outputs": [],
      "source": [
        "# %load _solved/solutions/04-spatial-joins22.py"
      ]
    },
    {
      "cell_type": "code",
      "execution_count": null,
      "metadata": {
        "clear_cell": true,
        "id": "fhCL8S-_eXVs"
      },
      "outputs": [],
      "source": [
        "# %load _solved/solutions/04-spatial-joins23.py"
      ]
    },
    {
      "cell_type": "code",
      "execution_count": null,
      "metadata": {
        "clear_cell": true,
        "id": "K5M8t0H5eXVs"
      },
      "outputs": [],
      "source": [
        "# %load _solved/solutions/04-spatial-joins24.py"
      ]
    },
    {
      "cell_type": "code",
      "execution_count": null,
      "metadata": {
        "clear_cell": true,
        "id": "1274bqWreXVs"
      },
      "outputs": [],
      "source": [
        "# %load _solved/solutions/04-spatial-joins25.py"
      ]
    },
    {
      "cell_type": "code",
      "execution_count": null,
      "metadata": {
        "clear_cell": true,
        "id": "07R6nssMeXVs"
      },
      "outputs": [],
      "source": [
        "# %load _solved/solutions/04-spatial-joins26.py"
      ]
    },
    {
      "cell_type": "code",
      "execution_count": null,
      "metadata": {
        "id": "c6snmODteXVs"
      },
      "outputs": [],
      "source": [
        ""
      ]
    }
  ],
  "metadata": {
    "kernelspec": {
      "display_name": "Python 3",
      "language": "python",
      "name": "python3"
    },
    "language_info": {
      "codemirror_mode": {
        "name": "ipython",
        "version": 3
      },
      "file_extension": ".py",
      "mimetype": "text/x-python",
      "name": "python",
      "nbconvert_exporter": "python",
      "pygments_lexer": "ipython3",
      "version": "3.7.3"
    },
    "colab": {
      "name": "geoSpazialez.ipynb",
      "provenance": [],
      "include_colab_link": true
    }
  },
  "nbformat": 4,
  "nbformat_minor": 0
}