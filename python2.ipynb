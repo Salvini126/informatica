{
  "nbformat": 4,
  "nbformat_minor": 0,
  "metadata": {
    "colab": {
      "name": "python2.ipynb",
      "provenance": [],
      "authorship_tag": "ABX9TyO3PCN5oNEmXpoazzckHV+e",
      "include_colab_link": true
    },
    "kernelspec": {
      "display_name": "Python 3",
      "name": "python3"
    },
    "language_info": {
      "name": "python"
    }
  },
  "cells": [
    {
      "cell_type": "markdown",
      "metadata": {
        "id": "view-in-github",
        "colab_type": "text"
      },
      "source": [
        "<a href=\"https://colab.research.google.com/github/Salvini126/informatica/blob/main/python2.ipynb\" target=\"_parent\"><img src=\"https://colab.research.google.com/assets/colab-badge.svg\" alt=\"Open In Colab\"/></a>"
      ]
    },
    {
      "cell_type": "code",
      "metadata": {
        "id": "BlpPqUAYW7x1"
      },
      "source": [
        "lst1 = [n1 for n1 in range(int(input(\"primo numero: \")), int(input(\"secondo numero: \"))+1)]\n",
        "print(lst1)\n",
        "lst2 = [n2 for n2 in lst1 if n2 % 3 == 0]\n",
        "print (lst2)"
      ],
      "execution_count": null,
      "outputs": []
    },
    {
      "cell_type": "code",
      "metadata": {
        "colab": {
          "background_save": true
        },
        "id": "vx_PaqSnamkh"
      },
      "source": [
        "stringa = input (\"Inserisci valori: \")\n",
        "print (stringa)\n",
        "numeri = stringa.split()\n",
        "print(numeri)\n",
        "lstFinale = [int(n) for n in numeri]\n",
        "lstFinale.pop()\n",
        "print(lstFinale)\n",
        "lstFinale2 = map(int, stringa.split()))\n",
        "print(lstFinale2)"
      ],
      "execution_count": null,
      "outputs": []
    }
  ]
}