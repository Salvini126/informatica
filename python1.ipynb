{
  "nbformat": 4,
  "nbformat_minor": 0,
  "metadata": {
    "colab": {
      "name": "python1.ipynb",
      "provenance": [],
      "authorship_tag": "ABX9TyP2bzdRvFbiPPlpm0CeNvUY",
      "include_colab_link": true
    },
    "kernelspec": {
      "name": "python3",
      "display_name": "Python 3"
    },
    "language_info": {
      "name": "python"
    }
  },
  "cells": [
    {
      "cell_type": "markdown",
      "metadata": {
        "id": "view-in-github",
        "colab_type": "text"
      },
      "source": [
        "<a href=\"https://colab.research.google.com/github/Salvini126/informatica/blob/main/python1.ipynb\" target=\"_parent\"><img src=\"https://colab.research.google.com/assets/colab-badge.svg\" alt=\"Open In Colab\"/></a>"
      ]
    },
    {
      "cell_type": "markdown",
      "metadata": {
        "id": "BFjSP8Ny7G4j"
      },
      "source": [
        "dati 3 numeri in imput calcolare la media"
      ]
    },
    {
      "cell_type": "code",
      "metadata": {
        "colab": {
          "base_uri": "https://localhost:8080/"
        },
        "id": "Klb7bY8Q7Frq",
        "outputId": "797dc488-3d59-4781-d698-114666753312"
      },
      "source": [
        "n1 =  int(input (\"inserisci il primo valore:\"))\n",
        "n2 =  int(input (\"inserisci il primo valore:\"))\n",
        "n3 =  int(input (\"inserisci il primo valore:\"))\n",
        "media = (n1 + n2 + n3)/3\n",
        "print (media)"
      ],
      "execution_count": null,
      "outputs": [
        {
          "output_type": "stream",
          "name": "stdout",
          "text": [
            "inserisci il primo valore:4\n",
            "inserisci il primo valore:5\n",
            "inserisci il primo valore:6\n",
            "5.0\n"
          ]
        }
      ]
    },
    {
      "cell_type": "markdown",
      "metadata": {
        "id": "entt2i72AXMU"
      },
      "source": [
        "dato il *raggio* trovare l'area del **cerchio** con 2 cifre decimali"
      ]
    },
    {
      "cell_type": "code",
      "metadata": {
        "colab": {
          "base_uri": "https://localhost:8080/"
        },
        "id": "s8LMaQiLAy9b",
        "outputId": "4056ddae-5528-4f71-fc56-b92edd82e928"
      },
      "source": [
        "import math\n",
        "raggio = int(input(\"inserire il raggio: \"))\n",
        "area = raggio**2*math.pi\n",
        "print (round(area,2))"
      ],
      "execution_count": null,
      "outputs": [
        {
          "output_type": "stream",
          "name": "stdout",
          "text": [
            "inserire il raggio: 5\n",
            "78.54\n"
          ]
        }
      ]
    },
    {
      "cell_type": "markdown",
      "metadata": {
        "id": "BQYPuorUDOyX"
      },
      "source": [
        "dato nome e cognome visualizzare le iniziali del nome e cognome in maiuscolo"
      ]
    },
    {
      "cell_type": "code",
      "metadata": {
        "id": "t5Br1F4yDPLX"
      },
      "source": [
        "nomeCognone = input(\"insersice nome e cognome\")\n",
        "print (nomeCognome.title())"
      ],
      "execution_count": null,
      "outputs": []
    },
    {
      "cell_type": "markdown",
      "metadata": {
        "id": "5VlE3mXQE9kh"
      },
      "source": [
        "data una frase visualizare il numero delle parole"
      ]
    },
    {
      "cell_type": "code",
      "metadata": {
        "colab": {
          "base_uri": "https://localhost:8080/"
        },
        "id": "3ltwqthOFJ4R",
        "outputId": "f48212c7-6b19-431a-ec47-cc2c4935aec4"
      },
      "source": [
        "frase = input(\"inserisci la frase:\")\n",
        "listaParole = frase.split()\n",
        "print (len(listaParole))"
      ],
      "execution_count": null,
      "outputs": [
        {
          "output_type": "stream",
          "name": "stdout",
          "text": [
            "inserisci la frase:la mamma è bella\n",
            "4\n"
          ]
        }
      ]
    },
    {
      "cell_type": "markdown",
      "metadata": {
        "id": "_zHHbb3UGAKA"
      },
      "source": [
        "data una frase visualizzare le parole in ordini alfabetico"
      ]
    },
    {
      "cell_type": "code",
      "metadata": {
        "colab": {
          "base_uri": "https://localhost:8080/"
        },
        "id": "c3khC-lEGAeY",
        "outputId": "b6217df1-b6f8-4a9b-e173-33c4ccdf4f92"
      },
      "source": [
        "frase = input(\"inserisci la frase:\")\n",
        "listaParole = frase.split()\n",
        "listaParole.sort()\n",
        "print(listaParole)"
      ],
      "execution_count": null,
      "outputs": [
        {
          "output_type": "stream",
          "name": "stdout",
          "text": [
            "inserisci la frase:Riccardo è molto carino\n",
            "['Riccardo', 'carino', 'molto', 'è']\n"
          ]
        }
      ]
    },
    {
      "cell_type": "markdown",
      "metadata": {
        "id": "E6B2wicOIM4X"
      },
      "source": [
        "data una frase visualizzare le ultime tre parole"
      ]
    },
    {
      "cell_type": "code",
      "metadata": {
        "colab": {
          "base_uri": "https://localhost:8080/"
        },
        "id": "gEFv429AINK3",
        "outputId": "9f38c1de-20b6-4c41-bc57-d60f0125d8e3"
      },
      "source": [
        "frase = input(\"inserisci la frase:\")\n",
        "listaParole = frase.split()\n",
        "print(listaParole[-3:])"
      ],
      "execution_count": null,
      "outputs": [
        {
          "output_type": "stream",
          "name": "stdout",
          "text": [
            "inserisci la frase:data una frase visualizzare le ultime tre parole\n",
            "['ultime', 'tre', 'parole']\n"
          ]
        }
      ]
    },
    {
      "cell_type": "markdown",
      "metadata": {
        "id": "NwAiAA7iINY2"
      },
      "source": [
        ""
      ]
    },
    {
      "cell_type": "code",
      "metadata": {
        "id": "du4As96AIONu"
      },
      "source": [
        ""
      ],
      "execution_count": null,
      "outputs": []
    }
  ]
}