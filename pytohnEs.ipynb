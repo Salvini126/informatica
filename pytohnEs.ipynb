{
  "nbformat": 4,
  "nbformat_minor": 0,
  "metadata": {
    "colab": {
      "name": "pytohnEs.ipynb",
      "provenance": [],
      "authorship_tag": "ABX9TyMkZ0l4eGynb85PdetpFpWA",
      "include_colab_link": true
    },
    "kernelspec": {
      "name": "python3",
      "display_name": "Python 3"
    },
    "language_info": {
      "name": "python"
    }
  },
  "cells": [
    {
      "cell_type": "markdown",
      "metadata": {
        "id": "view-in-github",
        "colab_type": "text"
      },
      "source": [
        "<a href=\"https://colab.research.google.com/github/Salvini126/informatica/blob/main/pytohnEs.ipynb\" target=\"_parent\"><img src=\"https://colab.research.google.com/assets/colab-badge.svg\" alt=\"Open In Colab\"/></a>"
      ]
    },
    {
      "cell_type": "markdown",
      "metadata": {
        "id": "iUI9V5QPQ7Pa"
      },
      "source": [
        "1. scrivere una funzione chiamata media che dati due numeri restituisca la media. Utilizzare poi la funzione in un programma che acquisisca dall'utente due numeri e calcoli la media"
      ]
    },
    {
      "cell_type": "code",
      "metadata": {
        "id": "H3j1crdmW1lA"
      },
      "source": [
        "#inizializza la funzione con i paramentri x e y\n",
        "# parametri formali \n",
        "def media(x,y):\n",
        "  return (x + y) /2\n",
        "  # parametri attuali non servono che abbiano lo stesso nome di quelli formali\n",
        "x,y = int(input()),int(input())\n",
        "media(x,y)"
      ],
      "execution_count": null,
      "outputs": []
    },
    {
      "cell_type": "markdown",
      "metadata": {
        "id": "XWJqSzEDQ9fH"
      },
      "source": [
        "2. scrivere una funzione chiamata piuCorta che date due liste restituisca la lista con meno elementi. Utilizzare poi la funzione in un programma che acquisisca dall'utente due liste e visualizzi gli elementi della lista più corta."
      ]
    },
    {
      "cell_type": "code",
      "metadata": {
        "id": "hw30leJaW4Dv"
      },
      "source": [
        "def piuCorta(list1,list2):\n",
        "  #lunghezza lista\n",
        "  if len(list1) < len(list2):\n",
        "    return list1\n",
        "  else:\n",
        "    return list2\n",
        "\n",
        "list1 = input().split()\n",
        "list2 = input().split()\n",
        "piuCorta(list1,list2)"
      ],
      "execution_count": null,
      "outputs": []
    },
    {
      "cell_type": "markdown",
      "metadata": {
        "id": "jsL-XF88RdkW"
      },
      "source": [
        "3. scrivere una funzione chiamata costruisciLista che dati due numeri interi restituisca la lista formata da tutti i numeri interi compresi tra i due numeri dati. Utilizzare poi la funzione in un programma che acquisisca dall'utente due numeri e visualizzi la lista formata da tutti i numeri interi compresi tra i due numeri dati ma a partire dal più grande fino al più piccolo."
      ]
    },
    {
      "cell_type": "code",
      "metadata": {
        "id": "mzS1B9tuP936"
      },
      "source": [
        "def costruisciLista(x,y):\n",
        "  z = [i for i in range(x+1,y)]\n",
        "  z.reverse()\n",
        "  return z\n",
        "costruisciLista(int(input(\"inserire il primo numero: \")), int(input(\"inserire il secondo numero:\")))"
      ],
      "execution_count": null,
      "outputs": []
    },
    {
      "cell_type": "markdown",
      "metadata": {
        "id": "_kRYVVXORg1O"
      },
      "source": [
        "4. scrivere una funzione chiamata valoreAssoluto che dato un numero restituisca il suo valore assoluto. Utilizzare poi questa funzione per determinare il valore assoluto degli elementi di una lista inserita dall'utente."
      ]
    },
    {
      "cell_type": "code",
      "metadata": {
        "id": "-9ssC6sRW3-n"
      },
      "source": [
        "arr = input('inserisci un numero:')\n",
        "def valoreAssoluto(n):\n",
        "    return abs(n)\n",
        "print(valoreAssoluto(float(arr)))"
      ],
      "execution_count": null,
      "outputs": []
    },
    {
      "cell_type": "markdown",
      "metadata": {
        "id": "Ikr-9399RhSK"
      },
      "source": [
        "5. scrivere una funzione chiamata scambia che data una lista scambi il primo elemento con l'ultimo, il secondo con il penultimo e così via. Utilizzare poi la funzione in un programma che acquisisca dall'utente una lista di 10 elementi e li visualizzi scambiati."
      ]
    },
    {
      "cell_type": "code",
      "metadata": {
        "id": "tyliQbzvW378",
        "colab": {
          "base_uri": "https://localhost:8080/"
        },
        "outputId": "0e6e2704-c941-47a3-e036-1acac3d037d4"
      },
      "source": [
        "def scambio(alist):\n",
        "  return alist[::-1]\n",
        "\n",
        "lista = input().split()\n",
        "scambio(lista)"
      ],
      "execution_count": null,
      "outputs": [
        {
          "name": "stdout",
          "output_type": "stream",
          "text": [
            "1 2 3 4 5 6 7 7\n"
          ]
        },
        {
          "output_type": "execute_result",
          "data": {
            "text/plain": [
              "['7', '7', '6', '5', '4', '3', '2', '1']"
            ]
          },
          "metadata": {},
          "execution_count": 30
        }
      ]
    },
    {
      "cell_type": "markdown",
      "metadata": {
        "id": "JTFr8dk2RhyX"
      },
      "source": [
        "6. scrivere una funzione lambda che dati due numeri calcoli la loro somma. Utilizzare la funzione in un programma che chieda all'utente due numeri interi e visualizzi la loro somma.\n"
      ]
    },
    {
      "cell_type": "code",
      "metadata": {
        "id": "tPSoKvAjW34_"
      },
      "source": [
        "inputX, inputY = int(input()),int(input())\n",
        "somma = lambda x, y : x + y\n",
        "somma(inputX,inputY)"
      ],
      "execution_count": null,
      "outputs": []
    },
    {
      "cell_type": "markdown",
      "metadata": {
        "id": "GFHwp_GIRil6"
      },
      "source": [
        "7. scrivere un programma che utilizzi una lambda function per aumentare di 10 unità tutti gli elementi di una lista di interi inserita dall'utente.\n"
      ]
    },
    {
      "cell_type": "code",
      "metadata": {
        "id": "6I1tb0w8W32D",
        "colab": {
          "base_uri": "https://localhost:8080/"
        },
        "outputId": "f6ce0388-90a9-4a00-b125-1f8d23dec2f5"
      },
      "source": [
        "lista1 = [int(n) for n in input(\"inserisci numeri: \").split()]\n",
        "lista = list(map(lambda x: x + 10, lista1))\n",
        "print(lista)"
      ],
      "execution_count": null,
      "outputs": [
        {
          "output_type": "stream",
          "name": "stdout",
          "text": [
            "inserisci numeri: 1 2 3 4 5 6 7 8\n",
            "[11, 12, 13, 14, 15, 16, 17, 18]\n"
          ]
        }
      ]
    }
  ]
}