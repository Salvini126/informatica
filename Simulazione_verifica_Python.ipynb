{
  "nbformat": 4,
  "nbformat_minor": 0,
  "metadata": {
    "colab": {
      "name": "Simulazione verifica Python",
      "provenance": [],
      "collapsed_sections": [],
      "authorship_tag": "ABX9TyMQ372zLPmjROirhB/yEjpX",
      "include_colab_link": true
    },
    "kernelspec": {
      "name": "python3",
      "display_name": "Python 3"
    },
    "language_info": {
      "name": "python"
    }
  },
  "cells": [
    {
      "cell_type": "markdown",
      "metadata": {
        "id": "view-in-github",
        "colab_type": "text"
      },
      "source": [
        "<a href=\"https://colab.research.google.com/github/Salvini126/informatica/blob/main/Simulazione_verifica_Python.ipynb\" target=\"_parent\"><img src=\"https://colab.research.google.com/assets/colab-badge.svg\" alt=\"Open In Colab\"/></a>"
      ]
    },
    {
      "cell_type": "markdown",
      "metadata": {
        "id": "KeU_ynI94qKN"
      },
      "source": [
        "1. scrivere un programma che permetta all'utente di inserire tre valori e visualizzi quello intermedio."
      ]
    },
    {
      "cell_type": "code",
      "metadata": {
        "colab": {
          "base_uri": "https://localhost:8080/"
        },
        "id": "F9AJZ8tY4c6T",
        "outputId": "70fd6228-57f2-4021-934c-1589058fe208"
      },
      "source": [
        "n1,n2,n3 = int(input(\"inserire il primo numero \")),int(input(\"inserire il secondo numero \")),int(input(\"inserire il terzo numero \"))\n",
        "if n1 > n2 and n1 > n3 and n2 > n3 or n1 < n2 and n1 < n3 and n2 < n3:\n",
        "  print(n2)\n",
        "elif n2 > n1 and n2 > n3 and n3 > n1 or  n2 < n1 and n2 < n3 and n3 < n1:\n",
        "  print(n3)\n",
        "else:\n",
        "  print(n1)"
      ],
      "execution_count": null,
      "outputs": [
        {
          "output_type": "stream",
          "name": "stdout",
          "text": [
            "inserire il primo numero 1\n",
            "inserire il secondo numero 2\n",
            "inserire il terzo numero 3\n",
            "2\n"
          ]
        }
      ]
    },
    {
      "cell_type": "markdown",
      "metadata": {
        "id": "Yh4XdCNJ4pKp"
      },
      "source": [
        "2. scrivere un programma che permetta all'utente di caricare una lista di numeri interi ed un valore e carichi in un'altra lista tutti gli elementi della prima lista che sono multipli del valore inserito. Al termnine visualizzare entrambe le liste."
      ]
    },
    {
      "cell_type": "code",
      "metadata": {
        "colab": {
          "base_uri": "https://localhost:8080/"
        },
        "id": "IIDqMeEt4x1D",
        "outputId": "95eb12ad-59e0-4b05-ca6a-9f940923f360"
      },
      "source": [
        "lst1 = [int(n) for n in input(\"inserisci numeri: \").split()]\n",
        "v = int(input(\"inserire il valore \"))\n",
        "lst2 = [int(a) for a in lst1 if a % v == 0]\n",
        "lst2"
      ],
      "execution_count": null,
      "outputs": [
        {
          "name": "stdout",
          "output_type": "stream",
          "text": [
            "inserisci numeri: 1 2 3 4 5 6\n",
            "inserire il valore 4\n"
          ]
        },
        {
          "output_type": "execute_result",
          "data": {
            "text/plain": [
              "[4]"
            ]
          },
          "metadata": {},
          "execution_count": 2
        }
      ]
    },
    {
      "cell_type": "markdown",
      "metadata": {
        "id": "H1Qrce9-4vSf"
      },
      "source": [
        "3. scrivere un programma che permetta all'utente di memorizzare in un dizionario i numeri di telefono dei propri amici. L'utente deve poter inserire i nomi e i numeri."
      ]
    },
    {
      "cell_type": "code",
      "metadata": {
        "id": "-2ow0jZx4vvX"
      },
      "source": [
        "nv = int(input(\"Inserisci quante volte vuoi ripetre l'operazione: \"))\n",
        "d = {}\n",
        "\n",
        "for i in range(n):\n",
        "  data = input(\"inserire nome e numeri \")\n",
        "  temp = data.split\n",
        "  d[temp[0]] = temp[1]\n",
        "\n",
        "print(d)"
      ],
      "execution_count": null,
      "outputs": []
    },
    {
      "cell_type": "markdown",
      "metadata": {
        "id": "15ophAgf4wC8"
      },
      "source": [
        "4. scrivere un programma che dato il dizionario dell'esercizio precedente, permetta all'utente di inserire un nome e avere il numero di telefono corrispondente"
      ]
    },
    {
      "cell_type": "code",
      "metadata": {
        "id": "Pti66jg-4wY7"
      },
      "source": [
        "print(d.get(input(\" \")))"
      ],
      "execution_count": null,
      "outputs": []
    },
    {
      "cell_type": "markdown",
      "metadata": {
        "id": "cx999z284won"
      },
      "source": [
        "5. scrivere una funzione che dato il raggio calcoli la superficie del cerchio avente quel raggio. Chiamare al funzione superficie,. Il valore di ritorno deve avere tre cifre decimali."
      ]
    },
    {
      "cell_type": "code",
      "metadata": {
        "id": "Yk8VpgF34-vQ"
      },
      "source": [
        "import math\n",
        "def superfice(a):\n",
        "  c = 2*math.pi*a\n",
        "  return(round(c, 3))\n",
        "r = int(input(\"inserire il raggio: \"))\n",
        "print(superfice(r))"
      ],
      "execution_count": null,
      "outputs": []
    },
    {
      "cell_type": "markdown",
      "metadata": {
        "id": "f_LOm4MSOFDo"
      },
      "source": [
        ""
      ]
    },
    {
      "cell_type": "code",
      "metadata": {
        "id": "hQwT9PdGOEEC"
      },
      "source": [
        "def volume (r,h):\n",
        "  return superficie (r)*hasattr\n",
        "r = int(input())\n",
        "h = int(input())\n",
        "c = int(input())"
      ],
      "execution_count": null,
      "outputs": []
    },
    {
      "cell_type": "markdown",
      "metadata": {
        "id": "G2osvo-yOEXp"
      },
      "source": [
        ""
      ]
    },
    {
      "cell_type": "code",
      "metadata": {
        "colab": {
          "base_uri": "https://localhost:8080/",
          "height": 129
        },
        "id": "NR2Jki4BdNdH",
        "outputId": "52d5ce36-77e9-4ee6-9d3e-b16801321e9f"
      },
      "source": [
        "def paroleMenoVoc (parola):\n",
        "vocali = [\"a\",\"e\",\"i\",\"o\",\"u\"]\n",
        "\n",
        "c = [x for x in paroleMenoVoc if x not in vocali]\n",
        "\n",
        "retun(c)"
      ],
      "execution_count": null,
      "outputs": [
        {
          "output_type": "error",
          "ename": "IndentationError",
          "evalue": "ignored",
          "traceback": [
            "\u001b[0;36m  File \u001b[0;32m\"<ipython-input-71-0fbbd8740df2>\"\u001b[0;36m, line \u001b[0;32m2\u001b[0m\n\u001b[0;31m    vocali = [\"a\",\"e\",\"i\",\"o\",\"u\"]\u001b[0m\n\u001b[0m         ^\u001b[0m\n\u001b[0;31mIndentationError\u001b[0m\u001b[0;31m:\u001b[0m expected an indented block\n"
          ]
        }
      ]
    }
  ]
}